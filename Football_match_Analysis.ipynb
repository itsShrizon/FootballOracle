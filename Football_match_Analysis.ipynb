{
  "nbformat": 4,
  "nbformat_minor": 0,
  "metadata": {
    "colab": {
      "provenance": []
    },
    "kernelspec": {
      "name": "python3",
      "display_name": "Python 3"
    },
    "language_info": {
      "name": "python"
    }
  },
  "cells": [
    {
      "cell_type": "code",
      "execution_count": 1,
      "metadata": {
        "id": "eJFJGC7fKU3k"
      },
      "outputs": [],
      "source": [
        "import pandas as pd\n",
        "import matplotlib.pyplot as plt\n",
        "import numpy as np\n",
        "import seaborn as sns\n",
        "from datetime import datetime as dt\n",
        "import itertools\n",
        "%matplotlib inline\n",
        "import sklearn\n",
        "from sklearn.model_selection import train_test_split\n",
        "from sklearn.ensemble import GradientBoostingClassifier\n",
        "from sklearn.metrics import accuracy_score, recall_score, precision_score, f1_score\n",
        "from sklearn.impute import SimpleImputer\n",
        "from sklearn.preprocessing import LabelEncoder\n"
      ]
    },
    {
      "cell_type": "code",
      "source": [
        "df = pd.read_csv(\"/content/merged_data.csv\")"
      ],
      "metadata": {
        "colab": {
          "base_uri": "https://localhost:8080/"
        },
        "id": "U6Py8nIcKaY2",
        "outputId": "6bfbf018-998b-40e1-fcac-be553d234247"
      },
      "execution_count": 3,
      "outputs": [
        {
          "output_type": "stream",
          "name": "stderr",
          "text": [
            "<ipython-input-3-dfdb3120fa48>:1: DtypeWarning: Columns (83) have mixed types. Specify dtype option on import or set low_memory=False.\n",
            "  df = pd.read_csv(\"/content/merged_data.csv\")\n"
          ]
        }
      ]
    },
    {
      "cell_type": "code",
      "source": [
        "print(len(df))"
      ],
      "metadata": {
        "colab": {
          "base_uri": "https://localhost:8080/"
        },
        "id": "3upUYKOBKc32",
        "outputId": "07cbac17-36b1-49b7-9325-973e6abbf29b"
      },
      "execution_count": 4,
      "outputs": [
        {
          "output_type": "stream",
          "name": "stdout",
          "text": [
            "7260\n"
          ]
        }
      ]
    },
    {
      "cell_type": "markdown",
      "source": [
        "# **Dataset Analysis**\n",
        "\n",
        "- shape\n",
        "- columns\n",
        "- head()\n",
        "- sample()\n",
        "- describe()\n",
        "- finding categorical features\n",
        "- checking if any null/nan values\n",
        "- filtering data instances based on indices\n",
        "- filtering data instances based on conditional statements\n"
      ],
      "metadata": {
        "id": "UtkL0TSJKlR4"
      }
    },
    {
      "cell_type": "code",
      "source": [
        "df.shape\n"
      ],
      "metadata": {
        "colab": {
          "base_uri": "https://localhost:8080/"
        },
        "id": "zFtxbF8RKjFK",
        "outputId": "dc541385-31b9-440a-bcf2-138ab99d5c84"
      },
      "execution_count": 6,
      "outputs": [
        {
          "output_type": "execute_result",
          "data": {
            "text/plain": [
              "(7260, 145)"
            ]
          },
          "metadata": {},
          "execution_count": 6
        }
      ]
    },
    {
      "cell_type": "code",
      "source": [
        "# Basic Dataset Information\n",
        "# Shape - shows number of rows and columns\n",
        "print(\"Dataset Shape:\", df.shape)\n",
        "\n",
        "# Display column names\n",
        "print(\"\\nColumns:\", df.columns.tolist())\n",
        "\n",
        "# View first few rows\n",
        "print(\"\\nFirst 5 rows:\")\n",
        "print(df.head())\n",
        "\n",
        "# View random sample of rows\n",
        "print(\"\\nRandom sample of 5 rows:\")\n",
        "print(df.sample(n=5))\n",
        "\n",
        "# Statistical summary of numerical columns\n",
        "print(\"\\nDescriptive Statistics:\")\n",
        "print(df.describe())\n",
        "\n",
        "# Finding categorical features\n",
        "categorical_columns = df.select_dtypes(include=['object', 'category']).columns\n",
        "print(\"\\nCategorical columns:\", categorical_columns.tolist())\n",
        "\n",
        "# Check for null values\n",
        "print(\"\\nNull value counts per column:\")\n",
        "print(df.isnull().sum())"
      ],
      "metadata": {
        "colab": {
          "base_uri": "https://localhost:8080/"
        },
        "id": "tUPKQ8OxKm9u",
        "outputId": "7334bd98-ef83-49fd-d7e9-b9ffd1beaea0"
      },
      "execution_count": 8,
      "outputs": [
        {
          "output_type": "stream",
          "name": "stdout",
          "text": [
            "Dataset Shape: (7260, 145)\n",
            "\n",
            "Columns: ['Unnamed: 0', 'Div', 'Date', 'HomeTeam', 'AwayTeam', 'FTHG', 'FTAG', 'FTR', 'HTHG', 'HTAG', 'HTR', 'Attendance', 'Referee', 'HS', 'AS', 'HST', 'AST', 'HHW', 'AHW', 'HC', 'AC', 'HF', 'AF', 'HO', 'AO', 'HY', 'AY', 'HR', 'AR', 'B365H', 'B365D', 'B365A', 'BWH', 'BWD', 'BWA', 'GBH', 'GBD', 'GBA', 'IWH', 'IWD', 'IWA', 'LBH', 'LBD', 'LBA', 'SBH', 'SBD', 'SBA', 'WHH', 'WHD', 'WHA', 'SJH', 'SJD', 'SJA', 'VCH', 'VCD', 'VCA', 'BSH', 'BSD', 'BSA', 'Bb1X2', 'BbMxH', 'BbAvH', 'BbMxD', 'BbAvD', 'BbMxA', 'BbAvA', 'BbOU', 'BbMx>2.5', 'BbAv>2.5', 'BbMx<2.5', 'BbAv<2.5', 'BbAH', 'BbAHh', 'BbMxAHH', 'BbAvAHH', 'BbMxAHA', 'BbAvAHA', 'PSH', 'PSD', 'PSA', 'PSCH', 'PSCD', 'PSCA', 'Time', 'MaxH', 'MaxD', 'MaxA', 'AvgH', 'AvgD', 'AvgA', 'B365>2.5', 'B365<2.5', 'P>2.5', 'P<2.5', 'Max>2.5', 'Max<2.5', 'Avg>2.5', 'Avg<2.5', 'AHh', 'B365AHH', 'B365AHA', 'PAHH', 'PAHA', 'MaxAHH', 'MaxAHA', 'AvgAHH', 'AvgAHA', 'B365CH', 'B365CD', 'B365CA', 'BWCH', 'BWCD', 'BWCA', 'IWCH', 'IWCD', 'IWCA', 'WHCH', 'WHCD', 'WHCA', 'VCCH', 'VCCD', 'VCCA', 'MaxCH', 'MaxCD', 'MaxCA', 'AvgCH', 'AvgCD', 'AvgCA', 'B365C>2.5', 'B365C<2.5', 'PC>2.5', 'PC<2.5', 'MaxC>2.5', 'MaxC<2.5', 'AvgC>2.5', 'AvgC<2.5', 'AHCh', 'B365CAHH', 'B365CAHA', 'PCAHH', 'PCAHA', 'MaxCAHH', 'MaxCAHA', 'AvgCAHH', 'AvgCAHA']\n",
            "\n",
            "First 5 rows:\n",
            "   Unnamed: 0 Div      Date  HomeTeam       AwayTeam  FTHG  FTAG FTR  HTHG  \\\n",
            "0           0  E0  19/08/00  Charlton       Man City     4     0   H     2   \n",
            "1           1  E0  19/08/00   Chelsea       West Ham     4     2   H     1   \n",
            "2           2  E0  19/08/00  Coventry  Middlesbrough     1     3   A     1   \n",
            "3           3  E0  19/08/00     Derby    Southampton     2     2   D     1   \n",
            "4           4  E0  19/08/00     Leeds        Everton     2     0   H     2   \n",
            "\n",
            "   HTAG  ... AvgC<2.5  AHCh B365CAHH  B365CAHA  PCAHH  PCAHA  MaxCAHH  \\\n",
            "0     0  ...      NaN   NaN      NaN       NaN    NaN    NaN      NaN   \n",
            "1     0  ...      NaN   NaN      NaN       NaN    NaN    NaN      NaN   \n",
            "2     1  ...      NaN   NaN      NaN       NaN    NaN    NaN      NaN   \n",
            "3     2  ...      NaN   NaN      NaN       NaN    NaN    NaN      NaN   \n",
            "4     0  ...      NaN   NaN      NaN       NaN    NaN    NaN      NaN   \n",
            "\n",
            "   MaxCAHA  AvgCAHH  AvgCAHA  \n",
            "0      NaN      NaN      NaN  \n",
            "1      NaN      NaN      NaN  \n",
            "2      NaN      NaN      NaN  \n",
            "3      NaN      NaN      NaN  \n",
            "4      NaN      NaN      NaN  \n",
            "\n",
            "[5 rows x 145 columns]\n",
            "\n",
            "Random sample of 5 rows:\n",
            "      Unnamed: 0 Div      Date    HomeTeam    AwayTeam  FTHG  FTAG FTR  HTHG  \\\n",
            "4031         231  E0  25/01/11   Blackpool  Man United     2     3   A     2   \n",
            "6285         205  E0  14/01/17   Tottenham   West Brom     4     0   H     2   \n",
            "4296         116  E0  19/11/11       Wigan   Blackburn     3     3   D     2   \n",
            "5799          99  E0  25/10/15  Sunderland   Newcastle     3     0   H     1   \n",
            "3163         123  E0  15/11/08  Man United       Stoke     5     0   H     2   \n",
            "\n",
            "      HTAG  ... AvgC<2.5  AHCh B365CAHH  B365CAHA  PCAHH  PCAHA  MaxCAHH  \\\n",
            "4031     0  ...      NaN   NaN      NaN       NaN    NaN    NaN      NaN   \n",
            "6285     0  ...      NaN   NaN      NaN       NaN    NaN    NaN      NaN   \n",
            "4296     1  ...      NaN   NaN      NaN       NaN    NaN    NaN      NaN   \n",
            "5799     0  ...      NaN   NaN      NaN       NaN    NaN    NaN      NaN   \n",
            "3163     0  ...      NaN   NaN      NaN       NaN    NaN    NaN      NaN   \n",
            "\n",
            "      MaxCAHA  AvgCAHH  AvgCAHA  \n",
            "4031      NaN      NaN      NaN  \n",
            "6285      NaN      NaN      NaN  \n",
            "4296      NaN      NaN      NaN  \n",
            "5799      NaN      NaN      NaN  \n",
            "3163      NaN      NaN      NaN  \n",
            "\n",
            "[5 rows x 145 columns]\n",
            "\n",
            "Descriptive Statistics:\n",
            "        Unnamed: 0         FTHG         FTAG         HTHG         HTAG  \\\n",
            "count  7260.000000  7260.000000  7260.000000  7260.000000  7260.000000   \n",
            "mean    184.926997     1.525758     1.138705     0.681543     0.497521   \n",
            "std     109.371819     1.294503     1.128066     0.829751     0.713454   \n",
            "min       0.000000     0.000000     0.000000     0.000000     0.000000   \n",
            "25%      90.000000     1.000000     0.000000     0.000000     0.000000   \n",
            "50%     182.000000     1.000000     1.000000     0.000000     0.000000   \n",
            "75%     279.000000     2.000000     2.000000     1.000000     1.000000   \n",
            "max     379.000000     9.000000     9.000000     5.000000     5.000000   \n",
            "\n",
            "         Attendance           HS           AS          HST          AST  ...  \\\n",
            "count    759.000000  7260.000000  7260.000000  7260.000000  7260.000000  ...   \n",
            "mean   33718.504611    13.520110    10.543113     6.328788     4.879890  ...   \n",
            "std    12108.931821     5.211521     4.505855     3.360881     2.830649  ...   \n",
            "min    14651.000000     0.000000     0.000000     0.000000     0.000000  ...   \n",
            "25%    24707.000000    10.000000     7.000000     4.000000     3.000000  ...   \n",
            "50%    32910.000000    13.000000    10.000000     6.000000     4.000000  ...   \n",
            "75%    39834.000000    17.000000    13.000000     8.000000     7.000000  ...   \n",
            "max    67683.000000    43.000000    30.000000    24.000000    20.000000  ...   \n",
            "\n",
            "         AvgC<2.5        AHCh    B365CAHH    B365CAHA       PCAHH       PCAHA  \\\n",
            "count  260.000000  260.000000  260.000000  260.000000  260.000000  260.000000   \n",
            "mean     2.232500   -0.302885    1.943538    1.965308    1.959885    1.976731   \n",
            "std      0.537829    0.976975    0.143365    0.105926    0.157621    0.109652   \n",
            "min      1.460000   -3.250000    1.670000    1.270000    1.710000    1.300000   \n",
            "25%      1.847500   -0.750000    1.867500    1.900000    1.880000    1.890000   \n",
            "50%      2.140000   -0.250000    1.945000    1.975000    1.955000    1.980000   \n",
            "75%      2.450000    0.250000    2.020000    2.042500    2.032500    2.050000   \n",
            "max      5.010000    3.000000    3.550000    2.200000    3.930000    2.290000   \n",
            "\n",
            "          MaxCAHH     MaxCAHA     AvgCAHH     AvgCAHA  \n",
            "count  260.000000  260.000000  260.000000  260.000000  \n",
            "mean     2.015308    2.031192    1.934923    1.954231  \n",
            "std      0.156045    0.115118    0.142163    0.102952  \n",
            "min      1.800000    1.300000    1.700000    1.280000  \n",
            "25%      1.930000    1.950000    1.850000    1.880000  \n",
            "50%      2.000000    2.040000    1.925000    1.955000  \n",
            "75%      2.070000    2.112500    2.000000    2.030000  \n",
            "max      3.950000    2.300000    3.660000    2.240000  \n",
            "\n",
            "[8 rows x 137 columns]\n",
            "\n",
            "Categorical columns: ['Div', 'Date', 'HomeTeam', 'AwayTeam', 'FTR', 'HTR', 'Referee', 'Time']\n",
            "\n",
            "Null value counts per column:\n",
            "Unnamed: 0       0\n",
            "Div              0\n",
            "Date             0\n",
            "HomeTeam         0\n",
            "AwayTeam         0\n",
            "              ... \n",
            "PCAHA         7000\n",
            "MaxCAHH       7000\n",
            "MaxCAHA       7000\n",
            "AvgCAHH       7000\n",
            "AvgCAHA       7000\n",
            "Length: 145, dtype: int64\n"
          ]
        }
      ]
    },
    {
      "cell_type": "code",
      "source": [
        "# Check for duplicates\n",
        "print(\"\\nNumber of duplicate rows:\", df.duplicated().sum())"
      ],
      "metadata": {
        "colab": {
          "base_uri": "https://localhost:8080/"
        },
        "id": "ZCB83LB0KpCI",
        "outputId": "169978c2-5185-4ad8-a4c5-bff2066c94d0"
      },
      "execution_count": 9,
      "outputs": [
        {
          "output_type": "stream",
          "name": "stdout",
          "text": [
            "\n",
            "Number of duplicate rows: 0\n"
          ]
        }
      ]
    },
    {
      "cell_type": "code",
      "source": [
        "for cat_col in categorical_columns:\n",
        "    print(f\"\\nValue counts for {cat_col}:\")\n",
        "    print(df[cat_col].value_counts())"
      ],
      "metadata": {
        "colab": {
          "base_uri": "https://localhost:8080/"
        },
        "id": "kcW3oAkWLLwQ",
        "outputId": "ea390ea1-9fb7-43f8-96d1-80147f0d7ffd"
      },
      "execution_count": 10,
      "outputs": [
        {
          "output_type": "stream",
          "name": "stdout",
          "text": [
            "\n",
            "Value counts for Div:\n",
            "Div\n",
            "E0    7260\n",
            "Name: count, dtype: int64\n",
            "\n",
            "Value counts for Date:\n",
            "Date\n",
            "26/12/08      10\n",
            "11/05/14      10\n",
            "11/05/2003    10\n",
            "11/05/08      10\n",
            "26/12/2002    10\n",
            "              ..\n",
            "20/08/00       1\n",
            "08/03/10       1\n",
            "10/03/10       1\n",
            "15/03/10       1\n",
            "19/02/2020     1\n",
            "Name: count, Length: 1921, dtype: int64\n",
            "\n",
            "Value counts for HomeTeam:\n",
            "HomeTeam\n",
            "Chelsea             364\n",
            "Everton             364\n",
            "Arsenal             364\n",
            "Man United          363\n",
            "Liverpool           362\n",
            "Tottenham           361\n",
            "Man City            344\n",
            "Newcastle           326\n",
            "Aston Villa         317\n",
            "West Ham            307\n",
            "Sunderland          266\n",
            "Fulham              254\n",
            "Southampton         229\n",
            "West Brom           228\n",
            "Bolton              209\n",
            "Blackburn           209\n",
            "Stoke               190\n",
            "Middlesbrough       171\n",
            "Leicester           154\n",
            "Wigan               152\n",
            "Crystal Palace      134\n",
            "Portsmouth          133\n",
            "Swansea             133\n",
            "Charlton            133\n",
            "Birmingham          133\n",
            "Norwich             108\n",
            "Wolves               97\n",
            "Watford              97\n",
            "Burnley              97\n",
            "Hull                 95\n",
            "Bournemouth          79\n",
            "Leeds                76\n",
            "Reading              57\n",
            "Derby                57\n",
            "QPR                  57\n",
            "Brighton             39\n",
            "Ipswich              38\n",
            "Sheffield United     32\n",
            "Cardiff              28\n",
            "Huddersfield         27\n",
            "Coventry             19\n",
            "Blackpool            19\n",
            "Bradford             19\n",
            "Middlesboro          19\n",
            "Name: count, dtype: int64\n",
            "\n",
            "Value counts for AwayTeam:\n",
            "AwayTeam\n",
            "Tottenham           365\n",
            "Liverpool           364\n",
            "Man United          363\n",
            "Chelsea             362\n",
            "Everton             362\n",
            "Arsenal             362\n",
            "Man City            344\n",
            "Newcastle           324\n",
            "Aston Villa         317\n",
            "West Ham            305\n",
            "Sunderland          266\n",
            "Fulham              256\n",
            "Southampton         231\n",
            "West Brom           228\n",
            "Blackburn           209\n",
            "Bolton              209\n",
            "Stoke               190\n",
            "Middlesbrough       171\n",
            "Leicester           154\n",
            "Wigan               152\n",
            "Crystal Palace      136\n",
            "Swansea             133\n",
            "Charlton            133\n",
            "Birmingham          133\n",
            "Portsmouth          133\n",
            "Norwich             108\n",
            "Burnley              97\n",
            "Watford              97\n",
            "Wolves               97\n",
            "Hull                 95\n",
            "Bournemouth          77\n",
            "Leeds                76\n",
            "QPR                  57\n",
            "Derby                57\n",
            "Reading              57\n",
            "Brighton             41\n",
            "Ipswich              38\n",
            "Sheffield United     32\n",
            "Huddersfield         27\n",
            "Cardiff              26\n",
            "Blackpool            19\n",
            "Bradford             19\n",
            "Middlesboro          19\n",
            "Coventry             19\n",
            "Name: count, dtype: int64\n",
            "\n",
            "Value counts for FTR:\n",
            "FTR\n",
            "H    3360\n",
            "A    2049\n",
            "D    1851\n",
            "Name: count, dtype: int64\n",
            "\n",
            "Value counts for HTR:\n",
            "HTR\n",
            "D    3013\n",
            "H    2558\n",
            "A    1689\n",
            "Name: count, dtype: int64\n",
            "\n",
            "Value counts for Referee:\n",
            "Referee\n",
            "M Dean         454\n",
            "M Atkinson     381\n",
            "A Marriner     312\n",
            "P Dowd         301\n",
            "H Webb         296\n",
            "              ... \n",
            "ﾠA D'Urso        1\n",
            "ﾠH Webb          1\n",
            "ﾠM Atkinson      1\n",
            "ﾠN Barry         1\n",
            "D England        1\n",
            "Name: count, Length: 169, dtype: int64\n",
            "\n",
            "Value counts for Time:\n",
            "Time\n",
            "15:00    107\n",
            "14:00     29\n",
            "17:30     28\n",
            "16:30     27\n",
            "12:30     26\n",
            "20:00     18\n",
            "19:30     15\n",
            "20:15      5\n",
            "19:45      4\n",
            "18:00      1\n",
            "Name: count, dtype: int64\n"
          ]
        }
      ]
    },
    {
      "cell_type": "markdown",
      "source": [
        "# ⚽ Football Match Dataset Summary\n",
        "\n",
        "## Dataset Overview\n",
        "- **Total Records**: 7,260 matches\n",
        "- **Features**: 145 columns\n",
        "- **Time Span**: 2000 - 2020\n",
        "\n",
        "## Main Features\n",
        "1. **Match Identifiers**:\n",
        "   - **Date**: Match date\n",
        "   - **Time**: Match start time\n",
        "   - **Teams**: `HomeTeam`, `AwayTeam`\n",
        "\n",
        "2. **Scores**:\n",
        "   - **Full-Time**:\n",
        "     - `FTHG` (Full-Time Home Goals)\n",
        "     - `FTAG` (Full-Time Away Goals)\n",
        "     - `FTR` (Full-Time Result)\n",
        "   - **Half-Time**:\n",
        "     - `HTHG` (Half-Time Home Goals)\n",
        "     - `HTAG` (Half-Time Away Goals)\n",
        "     - `HTR` (Half-Time Result)\n",
        "\n",
        "3. **Match Statistics**:\n",
        "   - **Attendance**: Crowd size\n",
        "   - **Referee**: Official overseeing the game\n",
        "\n",
        "4. **Team Performance Metrics**:\n",
        "   - **Shots**: `HS` (Home Shots), `AS` (Away Shots)\n",
        "   - **Shots on Target**: `HST` (Home Shots on Target), `AST` (Away Shots on Target)\n",
        "\n",
        "5. **Betting Odds**:\n",
        "   - Odds from multiple bookmakers (e.g., B365, BW, GB, IW)\n",
        "\n",
        "---\n",
        "\n"
      ],
      "metadata": {
        "id": "l-puXUb_M_Y4"
      }
    },
    {
      "cell_type": "markdown",
      "source": [
        "## **Team Performance Statistics:**"
      ],
      "metadata": {
        "id": "HJTu-GNsL2Zn"
      }
    },
    {
      "cell_type": "code",
      "source": [
        "# Calculate win percentages and average goals for each team\n",
        "team_stats = pd.DataFrame()\n",
        "\n",
        "# Home performance\n",
        "home_stats = df.groupby('HomeTeam').agg({\n",
        "    'FTHG': ['mean', 'sum'],\n",
        "    'FTAG': ['mean'],\n",
        "    'FTR': lambda x: (x == 'H').mean()  # Win percentage\n",
        "}).round(3)\n",
        "\n",
        "# Rename columns for clarity\n",
        "home_stats.columns = ['Avg_Goals_Scored_Home', 'Total_Goals_Home',\n",
        "                     'Avg_Goals_Conceded_Home', 'Home_Win_Rate']\n",
        "\n",
        "# Sort by win rate\n",
        "print(\"Home Performance (Top 10 teams by win rate):\")\n",
        "print(home_stats.sort_values('Home_Win_Rate', ascending=False).head(10))"
      ],
      "metadata": {
        "colab": {
          "base_uri": "https://localhost:8080/"
        },
        "id": "0zPu1vOoLOII",
        "outputId": "8a7d93ff-64a4-4dbe-8b88-e8e6a6ad92fb"
      },
      "execution_count": 11,
      "outputs": [
        {
          "output_type": "stream",
          "name": "stdout",
          "text": [
            "Home Performance (Top 10 teams by win rate):\n",
            "             Avg_Goals_Scored_Home  Total_Goals_Home  Avg_Goals_Conceded_Home  \\\n",
            "HomeTeam                                                                        \n",
            "Man United                   2.118               769                    0.713   \n",
            "Arsenal                      2.181               794                    0.865   \n",
            "Chelsea                      2.115               770                    0.799   \n",
            "Liverpool                    1.964               711                    0.757   \n",
            "Man City                     2.015               693                    0.942   \n",
            "Tottenham                    1.803               651                    1.028   \n",
            "Middlesboro                  1.895                36                    1.105   \n",
            "Everton                      1.607               585                    1.063   \n",
            "Newcastle                    1.457               475                    1.178   \n",
            "Fulham                       1.413               359                    1.240   \n",
            "\n",
            "             Home_Win_Rate  \n",
            "HomeTeam                    \n",
            "Man United           0.716  \n",
            "Arsenal              0.679  \n",
            "Chelsea              0.670  \n",
            "Liverpool            0.624  \n",
            "Man City             0.605  \n",
            "Tottenham            0.582  \n",
            "Middlesboro          0.526  \n",
            "Everton              0.511  \n",
            "Newcastle            0.457  \n",
            "Fulham               0.449  \n"
          ]
        }
      ]
    },
    {
      "cell_type": "markdown",
      "source": [
        "## **Home/Away Pattern Analysis:**"
      ],
      "metadata": {
        "id": "fEwe8EIAL-dL"
      }
    },
    {
      "cell_type": "code",
      "source": [
        "# Away performance\n",
        "away_stats = df.groupby('AwayTeam').agg({\n",
        "    'FTAG': ['mean', 'sum'],\n",
        "    'FTHG': ['mean'],\n",
        "    'FTR': lambda x: (x == 'A').mean()  # Win percentage\n",
        "}).round(3)\n",
        "\n",
        "away_stats.columns = ['Avg_Goals_Scored_Away', 'Total_Goals_Away',\n",
        "                     'Avg_Goals_Conceded_Away', 'Away_Win_Rate']\n",
        "\n",
        "print(\"\\nAway Performance (Top 10 teams by win rate):\")\n",
        "print(away_stats.sort_values('Away_Win_Rate', ascending=False).head(10))"
      ],
      "metadata": {
        "colab": {
          "base_uri": "https://localhost:8080/"
        },
        "id": "GGr4z-cZL5fC",
        "outputId": "c1033edc-694d-4468-a1fb-b76fb781dae0"
      },
      "execution_count": 12,
      "outputs": [
        {
          "output_type": "stream",
          "name": "stdout",
          "text": [
            "\n",
            "Away Performance (Top 10 teams by win rate):\n",
            "            Avg_Goals_Scored_Away  Total_Goals_Away  Avg_Goals_Conceded_Away  \\\n",
            "AwayTeam                                                                       \n",
            "Man United                  1.647               598                    1.066   \n",
            "Chelsea                     1.597               578                    0.975   \n",
            "Arsenal                     1.638               593                    1.185   \n",
            "Liverpool                   1.549               564                    1.187   \n",
            "Man City                    1.506               518                    1.291   \n",
            "Leeds                       1.289                98                    1.539   \n",
            "Tottenham                   1.315               480                    1.422   \n",
            "Ipswich                     1.237                47                    1.763   \n",
            "Leicester                   1.253               193                    1.597   \n",
            "Blackpool                   1.316                25                    2.158   \n",
            "\n",
            "            Away_Win_Rate  \n",
            "AwayTeam                   \n",
            "Man United          0.523  \n",
            "Chelsea             0.522  \n",
            "Arsenal             0.456  \n",
            "Liverpool           0.456  \n",
            "Man City            0.395  \n",
            "Leeds               0.368  \n",
            "Tottenham           0.348  \n",
            "Ipswich             0.316  \n",
            "Leicester           0.266  \n",
            "Blackpool           0.263  \n"
          ]
        }
      ]
    },
    {
      "cell_type": "markdown",
      "source": [
        "## **Scoring Patterns Analysis:**"
      ],
      "metadata": {
        "id": "V9Rnx4uvMICN"
      }
    },
    {
      "cell_type": "code",
      "source": [
        "# First Half vs Second Half scoring\n",
        "df['SecondHalfHomeGoals'] = df['FTHG'] - df['HTHG']\n",
        "df['SecondHalfAwayGoals'] = df['FTAG'] - df['HTAG']\n",
        "\n",
        "scoring_patterns = {\n",
        "    'First Half Home Goals (Avg)': df['HTHG'].mean(),\n",
        "    'First Half Away Goals (Avg)': df['HTAG'].mean(),\n",
        "    'Second Half Home Goals (Avg)': df['SecondHalfHomeGoals'].mean(),\n",
        "    'Second Half Away Goals (Avg)': df['SecondHalfAwayGoals'].mean()\n",
        "}\n",
        "\n",
        "print(\"\\nScoring Patterns:\")\n",
        "for key, value in scoring_patterns.items():\n",
        "    print(f\"{key}: {value:.2f}\")\n",
        "\n",
        "# Goals by time period comparison\n",
        "print(\"\\nGoals Distribution:\")\n",
        "print(\"First Half Goals (Avg):\", df['HTHG'].mean() + df['HTAG'].mean())\n",
        "print(\"Second Half Goals (Avg):\",\n",
        "      df['SecondHalfHomeGoals'].mean() + df['SecondHalfAwayGoals'].mean())"
      ],
      "metadata": {
        "colab": {
          "base_uri": "https://localhost:8080/"
        },
        "id": "qKRUfeA7MGDU",
        "outputId": "5c3401c0-c955-438a-94a7-4338f0307ae0"
      },
      "execution_count": 13,
      "outputs": [
        {
          "output_type": "stream",
          "name": "stdout",
          "text": [
            "\n",
            "Scoring Patterns:\n",
            "First Half Home Goals (Avg): 0.68\n",
            "First Half Away Goals (Avg): 0.50\n",
            "Second Half Home Goals (Avg): 0.84\n",
            "Second Half Away Goals (Avg): 0.64\n",
            "\n",
            "Goals Distribution:\n",
            "First Half Goals (Avg): 1.1790633608815426\n",
            "Second Half Goals (Avg): 1.4853994490358127\n"
          ]
        }
      ]
    },
    {
      "cell_type": "markdown",
      "source": [
        "## **Referee Analysis:**"
      ],
      "metadata": {
        "id": "yKG-FQ_pMM3t"
      }
    },
    {
      "cell_type": "code",
      "source": [
        "# Calculate referee statistics\n",
        "ref_stats = df.groupby('Referee').agg({\n",
        "    'FTR': ['count', lambda x: (x == 'H').mean()],  # Total matches and home win rate\n",
        "    'HY': 'mean',    # Avg home yellows\n",
        "    'AY': 'mean',    # Avg away yellows\n",
        "    'HR': 'mean',    # Avg home reds\n",
        "    'AR': 'mean'     # Avg away reds\n",
        "}).round(3)\n",
        "\n",
        "# Flatten the multi-level columns and rename them\n",
        "ref_stats.columns = ['Matches', 'Home_Win_Rate', 'Avg_Home_Yellows',\n",
        "                    'Avg_Away_Yellows', 'Avg_Home_Reds', 'Avg_Away_Reds']\n",
        "\n",
        "# Filter refs with minimum 50 matches\n",
        "experienced_refs = ref_stats[ref_stats['Matches'] >= 50].sort_values('Matches', ascending=False)\n",
        "\n",
        "print(\"\\nReferee Statistics (minimum 50 matches):\")\n",
        "print(experienced_refs.head(10))"
      ],
      "metadata": {
        "colab": {
          "base_uri": "https://localhost:8080/"
        },
        "id": "_Rj49l-5MKkB",
        "outputId": "76153609-1afe-43c0-d488-bb192083d05b"
      },
      "execution_count": 15,
      "outputs": [
        {
          "output_type": "stream",
          "name": "stdout",
          "text": [
            "\n",
            "Referee Statistics (minimum 50 matches):\n",
            "               Matches  Home_Win_Rate  Avg_Home_Yellows  Avg_Away_Yellows  \\\n",
            "Referee                                                                     \n",
            "M Dean             454          0.436             1.778             1.910   \n",
            "M Atkinson         381          0.457             1.496             1.882   \n",
            "A Marriner         312          0.455             1.433             1.776   \n",
            "P Dowd             301          0.482             1.449             2.090   \n",
            "H Webb             296          0.449             1.439             1.872   \n",
            "M Clattenburg      293          0.471             1.485             1.768   \n",
            "L Mason            263          0.502             1.384             1.730   \n",
            "C Foy              256          0.500             1.152             1.566   \n",
            "M Oliver           237          0.443             1.464             1.700   \n",
            "A Taylor           230          0.457             1.678             1.813   \n",
            "\n",
            "               Avg_Home_Reds  Avg_Away_Reds  \n",
            "Referee                                      \n",
            "M Dean                 0.075          0.134  \n",
            "M Atkinson             0.071          0.089  \n",
            "A Marriner             0.064          0.112  \n",
            "P Dowd                 0.076          0.140  \n",
            "H Webb                 0.041          0.071  \n",
            "M Clattenburg          0.102          0.058  \n",
            "L Mason                0.049          0.099  \n",
            "C Foy                  0.039          0.105  \n",
            "M Oliver               0.072          0.063  \n",
            "A Taylor               0.087          0.061  \n"
          ]
        }
      ]
    },
    {
      "cell_type": "markdown",
      "source": [
        "## **Additional Team Performance Metrics:**"
      ],
      "metadata": {
        "id": "WSySXlyfMdEj"
      }
    },
    {
      "cell_type": "code",
      "source": [
        "# Calculate shots conversion rate and shooting efficiency\n",
        "team_efficiency = df.groupby('HomeTeam').agg({\n",
        "    'HS': 'mean',    # Avg shots\n",
        "    'HST': 'mean',   # Avg shots on target\n",
        "    'FTHG': 'mean',  # Avg goals\n",
        "}).round(3)\n",
        "\n",
        "team_efficiency['Shooting_Accuracy'] = (team_efficiency['HST'] / team_efficiency['HS']).round(3)\n",
        "team_efficiency['Conversion_Rate'] = (team_efficiency['FTHG'] / team_efficiency['HST']).round(3)\n",
        "\n",
        "print(\"\\nTeam Efficiency Metrics (Top 10 by Conversion Rate):\")\n",
        "print(team_efficiency.sort_values('Conversion_Rate', ascending=False).head(10))"
      ],
      "metadata": {
        "colab": {
          "base_uri": "https://localhost:8080/"
        },
        "id": "hRawplHyMP1t",
        "outputId": "6ff22756-e295-4f7d-f73d-7048b0897c11"
      },
      "execution_count": 16,
      "outputs": [
        {
          "output_type": "stream",
          "name": "stdout",
          "text": [
            "\n",
            "Team Efficiency Metrics (Top 10 by Conversion Rate):\n",
            "                 HS    HST   FTHG  Shooting_Accuracy  Conversion_Rate\n",
            "HomeTeam                                                             \n",
            "Brighton     11.513  3.641  1.359              0.316            0.373\n",
            "Middlesboro  12.316  5.632  1.895              0.457            0.336\n",
            "Bournemouth  12.684  4.278  1.430              0.337            0.334\n",
            "Cardiff      12.786  3.750  1.143              0.293            0.305\n",
            "Watford      12.278  4.052  1.186              0.330            0.293\n",
            "Leicester    12.305  4.831  1.409              0.393            0.292\n",
            "Stoke        11.479  4.495  1.305              0.392            0.290\n",
            "Man City     15.427  7.270  2.015              0.471            0.277\n",
            "Chelsea      16.401  7.786  2.115              0.475            0.272\n",
            "Burnley      11.216  4.082  1.093              0.364            0.268\n"
          ]
        }
      ]
    },
    {
      "cell_type": "markdown",
      "source": [
        "## **Season Trends:**"
      ],
      "metadata": {
        "id": "2b_wFja_Mh_H"
      }
    },
    {
      "cell_type": "code",
      "source": [
        "# Extract season from date and analyze scoring trends\n",
        "df['Season'] = df['Date'].str.split('/').str[-1].astype(int)\n",
        "df['Season'] = df['Season'].apply(lambda x: 1900+x if x > 99 else 2000+x)\n",
        "\n",
        "season_stats = df.groupby('Season').agg({\n",
        "    'FTHG': 'mean',\n",
        "    'FTAG': 'mean',\n",
        "    'FTR': lambda x: (x == 'H').mean()\n",
        "}).round(3)\n",
        "\n",
        "season_stats.columns = ['Avg_Home_Goals', 'Avg_Away_Goals', 'Home_Win_Rate']\n",
        "season_stats['Total_Goals_Per_Game'] = season_stats['Avg_Home_Goals'] + season_stats['Avg_Away_Goals']\n",
        "\n",
        "print(\"\\nScoring Trends by Season:\")\n",
        "print(season_stats.sort_index())"
      ],
      "metadata": {
        "colab": {
          "base_uri": "https://localhost:8080/"
        },
        "id": "sMB6Wg6SMfES",
        "outputId": "4fca69d1-6312-4fb9-caf0-3d8a8ab0e339"
      },
      "execution_count": 17,
      "outputs": [
        {
          "output_type": "stream",
          "name": "stdout",
          "text": [
            "\n",
            "Scoring Trends by Season:\n",
            "        Avg_Home_Goals  Avg_Away_Goals  Home_Win_Rate  Total_Goals_Per_Game\n",
            "Season                                                                     \n",
            "2000             1.659           1.029          0.507                 2.688\n",
            "2001             1.421           1.155          0.426                 2.576\n",
            "2002             1.505           1.137          0.473                 2.642\n",
            "2003             1.452           1.122          0.431                 2.574\n",
            "2004             1.510           1.161          0.436                 2.671\n",
            "2005             1.455           1.027          0.484                 2.482\n",
            "2006             1.477           0.957          0.520                 2.434\n",
            "2007             1.553           1.124          0.456                 2.677\n",
            "2008             1.412           1.135          0.438                 2.547\n",
            "2009             1.593           1.058          0.503                 2.651\n",
            "2010             1.591           1.056          0.471                 2.647\n",
            "2011             1.631           1.252          0.456                 2.883\n",
            "2012             1.614           1.199          0.463                 2.813\n",
            "2013             1.530           1.172          0.446                 2.702\n",
            "2014             1.534           1.189          0.461                 2.723\n",
            "2015             1.450           1.121          0.429                 2.571\n",
            "2016             1.593           1.230          0.463                 2.823\n",
            "2017             1.521           1.182          0.469                 2.703\n",
            "2018             1.565           1.187          0.465                 2.752\n",
            "3902             1.455           1.024          0.488                 2.479\n",
            "3903             1.556           1.263          0.497                 2.819\n",
            "3919             1.492           1.317          0.432                 2.809\n",
            "3920             1.443           1.148          0.410                 2.591\n"
          ]
        }
      ]
    },
    {
      "cell_type": "code",
      "source": [
        "import pandas as pd\n",
        "import matplotlib.pyplot as plt\n",
        "import numpy as np\n",
        "\n",
        "def create_visualizations(home_stats, away_stats, scoring_patterns, ref_stats, team_efficiency, season_stats):\n",
        "    # Set basic style parameters\n",
        "    plt.rcParams['figure.figsize'] = (12, 6)\n",
        "    plt.rcParams['axes.titlesize'] = 12\n",
        "    plt.rcParams['axes.labelsize'] = 10\n",
        "    plt.rcParams['xtick.labelsize'] = 9\n",
        "    plt.rcParams['ytick.labelsize'] = 9\n",
        "\n",
        "    def plot_team_performance():\n",
        "        fig, (ax1, ax2) = plt.subplots(2, 1, figsize=(12, 12))\n",
        "\n",
        "        # Home Performance\n",
        "        top_home = home_stats.sort_values('Home_Win_Rate', ascending=False).head(8)\n",
        "        x = np.arange(len(top_home))\n",
        "        width = 0.35\n",
        "\n",
        "        ax1.bar(x - width/2, top_home['Home_Win_Rate'], width, label='Win Rate')\n",
        "        ax1.bar(x + width/2, top_home['Avg_Goals_Scored_Home'], width, label='Avg Goals')\n",
        "        ax1.set_xticks(x)\n",
        "        ax1.set_xticklabels(top_home.index, rotation=45)\n",
        "        ax1.set_title('Top 8 Teams - Home Performance')\n",
        "        ax1.legend()\n",
        "\n",
        "        # Away Performance\n",
        "        top_away = away_stats.sort_values('Away_Win_Rate', ascending=False).head(8)\n",
        "        x = np.arange(len(top_away))\n",
        "\n",
        "        ax2.bar(x - width/2, top_away['Away_Win_Rate'], width, label='Win Rate')\n",
        "        ax2.bar(x + width/2, top_away['Avg_Goals_Scored_Away'], width, label='Avg Goals')\n",
        "        ax2.set_xticks(x)\n",
        "        ax2.set_xticklabels(top_away.index, rotation=45)\n",
        "        ax2.set_title('Top 8 Teams - Away Performance')\n",
        "        ax2.legend()\n",
        "\n",
        "        plt.tight_layout()\n",
        "        plt.savefig('team_performance.png', dpi=300, bbox_inches='tight')\n",
        "        plt.close()\n",
        "\n",
        "    def plot_scoring_patterns():\n",
        "        fig, (ax1, ax2) = plt.subplots(1, 2, figsize=(15, 6))\n",
        "\n",
        "        # First vs Second Half\n",
        "        halves = ['First Half', 'Second Half']\n",
        "        home_goals = [scoring_patterns['First Half Home Goals (Avg)'],\n",
        "                     scoring_patterns['Second Half Home Goals (Avg)']]\n",
        "        away_goals = [scoring_patterns['First Half Away Goals (Avg)'],\n",
        "                     scoring_patterns['Second Half Away Goals (Avg)']]\n",
        "\n",
        "        x = np.arange(len(halves))\n",
        "        width = 0.35\n",
        "\n",
        "        ax1.bar(x - width/2, home_goals, width, label='Home')\n",
        "        ax1.bar(x + width/2, away_goals, width, label='Away')\n",
        "        ax1.set_xticks(x)\n",
        "        ax1.set_xticklabels(halves)\n",
        "        ax1.set_title('Goals Distribution by Half')\n",
        "        ax1.legend()\n",
        "\n",
        "        # Goals trend over seasons\n",
        "        ax2.plot(season_stats.index, season_stats['Total_Goals_Per_Game'])\n",
        "        ax2.set_xticks(season_stats.index[::2])\n",
        "        ax2.set_xticklabels(season_stats.index[::2], rotation=45)\n",
        "        ax2.set_title('Goals per Game Trend by Season')\n",
        "\n",
        "        plt.tight_layout()\n",
        "        plt.savefig('scoring_patterns.png', dpi=300, bbox_inches='tight')\n",
        "        plt.close()\n",
        "\n",
        "    def plot_referee_analysis():\n",
        "        fig, (ax1, ax2) = plt.subplots(2, 1, figsize=(12, 12))\n",
        "\n",
        "        top_refs = ref_stats.sort_values('Matches', ascending=False).head(8)\n",
        "        x = np.arange(len(top_refs))\n",
        "        width = 0.35\n",
        "\n",
        "        # Cards distribution\n",
        "        ax1.bar(x - width/2, top_refs['Avg_Home_Yellows'], width, label='Home Yellows')\n",
        "        ax1.bar(x + width/2, top_refs['Avg_Away_Yellows'], width, label='Away Yellows')\n",
        "        ax1.set_xticks(x)\n",
        "        ax1.set_xticklabels(top_refs.index, rotation=45)\n",
        "        ax1.set_title('Yellow Cards Distribution by Referee')\n",
        "        ax1.legend()\n",
        "\n",
        "        # Home advantage\n",
        "        ax2.bar(x, top_refs['Home_Win_Rate'], width*1.5)\n",
        "        ax2.set_xticks(x)\n",
        "        ax2.set_xticklabels(top_refs.index, rotation=45)\n",
        "        ax2.set_title('Home Win Rate by Referee')\n",
        "\n",
        "        plt.tight_layout()\n",
        "        plt.savefig('referee_analysis.png', dpi=300, bbox_inches='tight')\n",
        "        plt.close()\n",
        "\n",
        "    def plot_team_efficiency():\n",
        "        top_efficient = team_efficiency.sort_values('Conversion_Rate', ascending=False).head(8)\n",
        "        x = np.arange(len(top_efficient))\n",
        "        width = 0.35\n",
        "\n",
        "        fig, ax = plt.subplots(figsize=(12, 6))\n",
        "        ax.bar(x - width/2, top_efficient['Shooting_Accuracy'], width, label='Shooting Accuracy')\n",
        "        ax.bar(x + width/2, top_efficient['Conversion_Rate'], width, label='Conversion Rate')\n",
        "\n",
        "        ax.set_xticks(x)\n",
        "        ax.set_xticklabels(top_efficient.index, rotation=45)\n",
        "        ax.set_title('Team Shooting Efficiency')\n",
        "        ax.legend()\n",
        "\n",
        "        plt.tight_layout()\n",
        "        plt.savefig('team_efficiency.png', dpi=300, bbox_inches='tight')\n",
        "        plt.close()\n",
        "\n",
        "    def plot_season_trends():\n",
        "        fig, ax = plt.subplots(figsize=(12, 6))\n",
        "\n",
        "        ax.plot(season_stats.index, season_stats['Home_Win_Rate'], label='Home Win Rate')\n",
        "        ax.plot(season_stats.index, season_stats['Total_Goals_Per_Game'], label='Goals per Game')\n",
        "\n",
        "        ax.set_xticks(season_stats.index[::2])\n",
        "        ax.set_xticklabels(season_stats.index[::2], rotation=45)\n",
        "        ax.set_title('Season Trends')\n",
        "        ax.legend()\n",
        "\n",
        "        plt.tight_layout()\n",
        "        plt.savefig('season_trends.png', dpi=300, bbox_inches='tight')\n",
        "        plt.close()\n",
        "\n",
        "    # Create all visualizations\n",
        "    plot_team_performance()\n",
        "    plot_scoring_patterns()\n",
        "    plot_referee_analysis()\n",
        "    plot_team_efficiency()\n",
        "    plot_season_trends()\n",
        "\n",
        "# Usage example:\n",
        "if __name__ == \"__main__\":\n",
        "    create_visualizations(\n",
        "        home_stats=home_stats,\n",
        "        away_stats=away_stats,\n",
        "        scoring_patterns=scoring_patterns,\n",
        "        ref_stats=ref_stats,\n",
        "        team_efficiency=team_efficiency,\n",
        "        season_stats=season_stats\n",
        "    )"
      ],
      "metadata": {
        "id": "jxiJm7ehMuIU"
      },
      "execution_count": 20,
      "outputs": []
    },
    {
      "cell_type": "code",
      "source": [
        "create_visualizations(\n",
        "    home_stats=home_stats,\n",
        "    away_stats=away_stats,\n",
        "    scoring_patterns=scoring_patterns,\n",
        "    ref_stats=ref_stats,\n",
        "    team_efficiency=team_efficiency,\n",
        "    season_stats=season_stats\n",
        ")"
      ],
      "metadata": {
        "id": "Jk7H0XIsN0Cz"
      },
      "execution_count": 21,
      "outputs": []
    },
    {
      "cell_type": "code",
      "source": [],
      "metadata": {
        "id": "R-Kp6G6BOcT0"
      },
      "execution_count": null,
      "outputs": []
    }
  ]
}